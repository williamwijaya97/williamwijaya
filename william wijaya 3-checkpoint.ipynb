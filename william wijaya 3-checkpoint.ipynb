{
 "cells": [
  {
   "cell_type": "code",
   "execution_count": 1,
   "metadata": {},
   "outputs": [],
   "source": [
    "# Logistic Regression\n",
    "\n",
    "# Importing the libraries\n",
    "import numpy as np\n",
    "import matplotlib.pyplot as plt\n",
    "import pandas as pd"
   ]
  },
  {
   "cell_type": "code",
   "execution_count": 2,
   "metadata": {},
   "outputs": [],
   "source": [
    "# Importing the dataset\n",
    "dataset = pd.read_csv('Social_Data_Ads.csv')\n",
    "X = dataset.iloc[:, [2, 3]].values\n",
    "y = dataset.iloc[:, 4].values"
   ]
  },
  {
   "cell_type": "code",
   "execution_count": 3,
   "metadata": {},
   "outputs": [
    {
     "data": {
      "text/html": [
       "<div>\n",
       "<style scoped>\n",
       "    .dataframe tbody tr th:only-of-type {\n",
       "        vertical-align: middle;\n",
       "    }\n",
       "\n",
       "    .dataframe tbody tr th {\n",
       "        vertical-align: top;\n",
       "    }\n",
       "\n",
       "    .dataframe thead th {\n",
       "        text-align: right;\n",
       "    }\n",
       "</style>\n",
       "<table border=\"1\" class=\"dataframe\">\n",
       "  <thead>\n",
       "    <tr style=\"text-align: right;\">\n",
       "      <th></th>\n",
       "      <th>User ID</th>\n",
       "      <th>Jenis Kelamin</th>\n",
       "      <th>Umur</th>\n",
       "      <th>Pendapatan</th>\n",
       "      <th>Pembelian</th>\n",
       "    </tr>\n",
       "  </thead>\n",
       "  <tbody>\n",
       "    <tr>\n",
       "      <th>0</th>\n",
       "      <td>15624510</td>\n",
       "      <td>Laki-laki</td>\n",
       "      <td>19</td>\n",
       "      <td>19000</td>\n",
       "      <td>0</td>\n",
       "    </tr>\n",
       "    <tr>\n",
       "      <th>1</th>\n",
       "      <td>15810944</td>\n",
       "      <td>Laki-laki</td>\n",
       "      <td>35</td>\n",
       "      <td>20000</td>\n",
       "      <td>0</td>\n",
       "    </tr>\n",
       "    <tr>\n",
       "      <th>2</th>\n",
       "      <td>15668575</td>\n",
       "      <td>Perempuan</td>\n",
       "      <td>26</td>\n",
       "      <td>43000</td>\n",
       "      <td>0</td>\n",
       "    </tr>\n",
       "    <tr>\n",
       "      <th>3</th>\n",
       "      <td>15603246</td>\n",
       "      <td>Perempuan</td>\n",
       "      <td>27</td>\n",
       "      <td>57000</td>\n",
       "      <td>0</td>\n",
       "    </tr>\n",
       "    <tr>\n",
       "      <th>4</th>\n",
       "      <td>15804002</td>\n",
       "      <td>Laki-laki</td>\n",
       "      <td>19</td>\n",
       "      <td>76000</td>\n",
       "      <td>0</td>\n",
       "    </tr>\n",
       "  </tbody>\n",
       "</table>\n",
       "</div>"
      ],
      "text/plain": [
       "    User ID Jenis Kelamin  Umur  Pendapatan  Pembelian\n",
       "0  15624510     Laki-laki    19       19000          0\n",
       "1  15810944     Laki-laki    35       20000          0\n",
       "2  15668575     Perempuan    26       43000          0\n",
       "3  15603246     Perempuan    27       57000          0\n",
       "4  15804002     Laki-laki    19       76000          0"
      ]
     },
     "execution_count": 3,
     "metadata": {},
     "output_type": "execute_result"
    }
   ],
   "source": [
    "dataset.head()"
   ]
  },
  {
   "cell_type": "code",
   "execution_count": 4,
   "metadata": {},
   "outputs": [],
   "source": [
    "# Splitting the dataset into the Training set and Test set\n",
    "from sklearn.model_selection import train_test_split\n",
    "X_train, X_test, y_train, y_test = train_test_split(X, y, test_size = 0.25, random_state = 0)"
   ]
  },
  {
   "cell_type": "code",
   "execution_count": 5,
   "metadata": {},
   "outputs": [],
   "source": [
    "# Feature Scaling\n",
    "from sklearn.preprocessing import StandardScaler\n",
    "sc = StandardScaler()\n",
    "X_train = sc.fit_transform(X_train)\n",
    "X_test = sc.transform(X_test)"
   ]
  },
  {
   "cell_type": "code",
   "execution_count": 6,
   "metadata": {},
   "outputs": [
    {
     "data": {
      "text/plain": [
       "LogisticRegression(random_state=0)"
      ]
     },
     "execution_count": 6,
     "metadata": {},
     "output_type": "execute_result"
    }
   ],
   "source": [
    "# Fitting Logistic Regression to the Training set\n",
    "from sklearn.linear_model import LogisticRegression\n",
    "classifier = LogisticRegression(random_state = 0)\n",
    "classifier.fit(X_train, y_train)"
   ]
  },
  {
   "cell_type": "code",
   "execution_count": 7,
   "metadata": {},
   "outputs": [
    {
     "data": {
      "text/plain": [
       "(300, 2)"
      ]
     },
     "execution_count": 7,
     "metadata": {},
     "output_type": "execute_result"
    }
   ],
   "source": [
    "X_train.shape"
   ]
  },
  {
   "cell_type": "code",
   "execution_count": 8,
   "metadata": {},
   "outputs": [
    {
     "data": {
      "text/plain": [
       "(300,)"
      ]
     },
     "execution_count": 8,
     "metadata": {},
     "output_type": "execute_result"
    }
   ],
   "source": [
    "y_train.shape"
   ]
  },
  {
   "cell_type": "code",
   "execution_count": 9,
   "metadata": {},
   "outputs": [
    {
     "data": {
      "text/plain": [
       "(100, 2)"
      ]
     },
     "execution_count": 9,
     "metadata": {},
     "output_type": "execute_result"
    }
   ],
   "source": [
    "X_test.shape"
   ]
  },
  {
   "cell_type": "code",
   "execution_count": 10,
   "metadata": {},
   "outputs": [
    {
     "data": {
      "text/plain": [
       "(100,)"
      ]
     },
     "execution_count": 10,
     "metadata": {},
     "output_type": "execute_result"
    }
   ],
   "source": [
    "y_test.shape"
   ]
  },
  {
   "cell_type": "code",
   "execution_count": 11,
   "metadata": {},
   "outputs": [
    {
     "data": {
      "text/plain": [
       "array([0, 0, 0, 0, 0, 0, 0, 1, 0, 1, 0, 0, 0, 0, 0, 0, 0, 0, 1, 0, 0, 1,\n",
       "       0, 1, 0, 1, 0, 0, 0, 0, 0, 0, 1, 0, 0, 0, 0, 0, 0, 1, 0, 0, 0, 0,\n",
       "       1, 0, 0, 1, 0, 1, 1, 0, 0, 0, 1, 0, 0, 0, 0, 0, 0, 1, 0, 0, 0, 1,\n",
       "       0, 0, 0, 0, 1, 0, 0, 0, 0, 0, 1, 0, 1, 1, 1, 1, 0, 0, 1, 1, 0, 1,\n",
       "       0, 0, 0, 1, 0, 0, 0, 0, 0, 0, 1, 1], dtype=int64)"
      ]
     },
     "execution_count": 11,
     "metadata": {},
     "output_type": "execute_result"
    }
   ],
   "source": [
    "y_pred = classifier.predict(X_test)\n",
    "y_pred"
   ]
  },
  {
   "cell_type": "code",
   "execution_count": 12,
   "metadata": {},
   "outputs": [
    {
     "data": {
      "text/plain": [
       "array([0, 0, 0, 0, 0, 0, 0, 1, 0, 0, 0, 0, 0, 0, 0, 0, 0, 0, 1, 0, 0, 1,\n",
       "       0, 1, 0, 1, 0, 0, 0, 0, 0, 1, 1, 0, 0, 0, 0, 0, 0, 1, 0, 0, 0, 0,\n",
       "       1, 0, 0, 1, 0, 1, 1, 0, 0, 0, 1, 1, 0, 0, 1, 0, 0, 1, 0, 1, 0, 1,\n",
       "       0, 0, 0, 0, 1, 0, 0, 1, 0, 0, 0, 0, 1, 1, 1, 0, 0, 0, 1, 1, 0, 1,\n",
       "       1, 0, 0, 1, 0, 0, 0, 1, 0, 1, 1, 1], dtype=int64)"
      ]
     },
     "execution_count": 12,
     "metadata": {},
     "output_type": "execute_result"
    }
   ],
   "source": [
    "y_actual = y_test.flatten()\n",
    "y_actual"
   ]
  },
  {
   "cell_type": "code",
   "execution_count": 13,
   "metadata": {},
   "outputs": [
    {
     "name": "stdout",
     "output_type": "stream",
     "text": [
      "Hasil aktual: 0 Hasil prediksi: 0\n",
      "Hasil aktual: 0 Hasil prediksi: 0\n",
      "Hasil aktual: 0 Hasil prediksi: 0\n",
      "Hasil aktual: 0 Hasil prediksi: 0\n",
      "Hasil aktual: 0 Hasil prediksi: 0\n",
      "Hasil aktual: 0 Hasil prediksi: 0\n",
      "Hasil aktual: 0 Hasil prediksi: 0\n",
      "Hasil aktual: 1 Hasil prediksi: 1\n",
      "Hasil aktual: 0 Hasil prediksi: 0\n",
      "Hasil aktual: 0 Hasil prediksi: 1\n",
      "Hasil aktual: 0 Hasil prediksi: 0\n",
      "Hasil aktual: 0 Hasil prediksi: 0\n",
      "Hasil aktual: 0 Hasil prediksi: 0\n",
      "Hasil aktual: 0 Hasil prediksi: 0\n",
      "Hasil aktual: 0 Hasil prediksi: 0\n",
      "Hasil aktual: 0 Hasil prediksi: 0\n",
      "Hasil aktual: 0 Hasil prediksi: 0\n",
      "Hasil aktual: 0 Hasil prediksi: 0\n",
      "Hasil aktual: 1 Hasil prediksi: 1\n",
      "Hasil aktual: 0 Hasil prediksi: 0\n",
      "Hasil aktual: 0 Hasil prediksi: 0\n",
      "Hasil aktual: 1 Hasil prediksi: 1\n",
      "Hasil aktual: 0 Hasil prediksi: 0\n",
      "Hasil aktual: 1 Hasil prediksi: 1\n",
      "Hasil aktual: 0 Hasil prediksi: 0\n",
      "Hasil aktual: 1 Hasil prediksi: 1\n",
      "Hasil aktual: 0 Hasil prediksi: 0\n",
      "Hasil aktual: 0 Hasil prediksi: 0\n",
      "Hasil aktual: 0 Hasil prediksi: 0\n",
      "Hasil aktual: 0 Hasil prediksi: 0\n",
      "Hasil aktual: 0 Hasil prediksi: 0\n",
      "Hasil aktual: 1 Hasil prediksi: 0\n",
      "Hasil aktual: 1 Hasil prediksi: 1\n",
      "Hasil aktual: 0 Hasil prediksi: 0\n",
      "Hasil aktual: 0 Hasil prediksi: 0\n",
      "Hasil aktual: 0 Hasil prediksi: 0\n",
      "Hasil aktual: 0 Hasil prediksi: 0\n",
      "Hasil aktual: 0 Hasil prediksi: 0\n",
      "Hasil aktual: 0 Hasil prediksi: 0\n",
      "Hasil aktual: 1 Hasil prediksi: 1\n",
      "Hasil aktual: 0 Hasil prediksi: 0\n",
      "Hasil aktual: 0 Hasil prediksi: 0\n",
      "Hasil aktual: 0 Hasil prediksi: 0\n",
      "Hasil aktual: 0 Hasil prediksi: 0\n",
      "Hasil aktual: 1 Hasil prediksi: 1\n",
      "Hasil aktual: 0 Hasil prediksi: 0\n",
      "Hasil aktual: 0 Hasil prediksi: 0\n",
      "Hasil aktual: 1 Hasil prediksi: 1\n",
      "Hasil aktual: 0 Hasil prediksi: 0\n",
      "Hasil aktual: 1 Hasil prediksi: 1\n",
      "Hasil aktual: 1 Hasil prediksi: 1\n",
      "Hasil aktual: 0 Hasil prediksi: 0\n",
      "Hasil aktual: 0 Hasil prediksi: 0\n",
      "Hasil aktual: 0 Hasil prediksi: 0\n",
      "Hasil aktual: 1 Hasil prediksi: 1\n",
      "Hasil aktual: 1 Hasil prediksi: 0\n",
      "Hasil aktual: 0 Hasil prediksi: 0\n",
      "Hasil aktual: 0 Hasil prediksi: 0\n",
      "Hasil aktual: 1 Hasil prediksi: 0\n",
      "Hasil aktual: 0 Hasil prediksi: 0\n",
      "Hasil aktual: 0 Hasil prediksi: 0\n",
      "Hasil aktual: 1 Hasil prediksi: 1\n",
      "Hasil aktual: 0 Hasil prediksi: 0\n",
      "Hasil aktual: 1 Hasil prediksi: 0\n",
      "Hasil aktual: 0 Hasil prediksi: 0\n",
      "Hasil aktual: 1 Hasil prediksi: 1\n",
      "Hasil aktual: 0 Hasil prediksi: 0\n",
      "Hasil aktual: 0 Hasil prediksi: 0\n",
      "Hasil aktual: 0 Hasil prediksi: 0\n",
      "Hasil aktual: 0 Hasil prediksi: 0\n",
      "Hasil aktual: 1 Hasil prediksi: 1\n",
      "Hasil aktual: 0 Hasil prediksi: 0\n",
      "Hasil aktual: 0 Hasil prediksi: 0\n",
      "Hasil aktual: 1 Hasil prediksi: 0\n",
      "Hasil aktual: 0 Hasil prediksi: 0\n",
      "Hasil aktual: 0 Hasil prediksi: 0\n",
      "Hasil aktual: 0 Hasil prediksi: 1\n",
      "Hasil aktual: 0 Hasil prediksi: 0\n",
      "Hasil aktual: 1 Hasil prediksi: 1\n",
      "Hasil aktual: 1 Hasil prediksi: 1\n",
      "Hasil aktual: 1 Hasil prediksi: 1\n",
      "Hasil aktual: 0 Hasil prediksi: 1\n",
      "Hasil aktual: 0 Hasil prediksi: 0\n",
      "Hasil aktual: 0 Hasil prediksi: 0\n",
      "Hasil aktual: 1 Hasil prediksi: 1\n",
      "Hasil aktual: 1 Hasil prediksi: 1\n",
      "Hasil aktual: 0 Hasil prediksi: 0\n",
      "Hasil aktual: 1 Hasil prediksi: 1\n",
      "Hasil aktual: 1 Hasil prediksi: 0\n",
      "Hasil aktual: 0 Hasil prediksi: 0\n",
      "Hasil aktual: 0 Hasil prediksi: 0\n",
      "Hasil aktual: 1 Hasil prediksi: 1\n",
      "Hasil aktual: 0 Hasil prediksi: 0\n",
      "Hasil aktual: 0 Hasil prediksi: 0\n",
      "Hasil aktual: 0 Hasil prediksi: 0\n",
      "Hasil aktual: 1 Hasil prediksi: 0\n",
      "Hasil aktual: 0 Hasil prediksi: 0\n",
      "Hasil aktual: 1 Hasil prediksi: 0\n",
      "Hasil aktual: 1 Hasil prediksi: 1\n",
      "Hasil aktual: 1 Hasil prediksi: 1\n"
     ]
    }
   ],
   "source": [
    "for i in range(len(y_actual)):\n",
    "    print(f'Hasil aktual: {y_actual[i]} Hasil prediksi: {y_pred[i]}')"
   ]
  },
  {
   "cell_type": "code",
   "execution_count": 15,
   "metadata": {},
   "outputs": [
    {
     "data": {
      "text/plain": [
       "array([0], dtype=int64)"
      ]
     },
     "execution_count": 15,
     "metadata": {},
     "output_type": "execute_result"
    }
   ],
   "source": [
    "sample = np.array([[24, 33000]])\n",
    "sample = sc.transform(sample)\n",
    "sample_pred = classifier.predict(sample)\n",
    "sample_pred"
   ]
  },
  {
   "cell_type": "code",
   "execution_count": 16,
   "metadata": {},
   "outputs": [
    {
     "name": "stderr",
     "output_type": "stream",
     "text": [
      "*c* argument looks like a single numeric RGB or RGBA sequence, which should be avoided as value-mapping will have precedence in case its length matches with *x* & *y*.  Please use the *color* keyword-argument or provide a 2-D array with a single row if you intend to specify the same RGB or RGBA value for all points.\n",
      "*c* argument looks like a single numeric RGB or RGBA sequence, which should be avoided as value-mapping will have precedence in case its length matches with *x* & *y*.  Please use the *color* keyword-argument or provide a 2-D array with a single row if you intend to specify the same RGB or RGBA value for all points.\n"
     ]
    },
    {
     "data": {
      "image/png": "[encoded data removed]",
      "text/plain": [
       "<Figure size 432x288 with 1 Axes>"
      ]
     },
     "metadata": {
      "needs_background": "light"
     },
     "output_type": "display_data"
    }
   ],
   "source": [
    "# Visualising the Test set results\n",
    "from matplotlib.colors import ListedColormap\n",
    "X_set, y_set = X_test, y_test\n",
    "X1, X2 = np.meshgrid(np.arange(start = X_set[:, 0].min() - 1, stop = X_set[:, 0].max() + 1, step = 0.01),\n",
    "                     np.arange(start = X_set[:, 1].min() - 1, stop = X_set[:, 1].max() + 1, step = 0.01))\n",
    "plt.contourf(X1, X2, classifier.predict(np.array([X1.ravel(), X2.ravel()]).T).reshape(X1.shape),\n",
    "             alpha = 0.55, cmap = ListedColormap(('blue', 'red')))\n",
    "plt.xlim(X1.min(), X1.max())\n",
    "plt.ylim(X2.min(), X2.max())\n",
    "for i, j in enumerate(np.unique(y_set)):\n",
    "    plt.scatter(X_set[y_set == j, 0], X_set[y_set == j, 1],\n",
    "                c = ListedColormap(('blue', 'red'))(i), label = j)\n",
    "plt.title('Logistic Regression (Test set)')\n",
    "plt.xlabel('Umur')\n",
    "plt.ylabel('Pendapatan')\n",
    "plt.legend()\n",
    "plt.show()"
   ]
  },
  {
   "cell_type": "code",
   "execution_count": null,
   "metadata": {},
   "outputs": [],
   "source": []
  }
 ],
 "metadata": {
  "kernelspec": {
   "display_name": "Python 3",
   "language": "python",
   "name": "python3"
  },
  "language_info": {
   "codemirror_mode": {
    "name": "ipython",
    "version": 3
   },
   "file_extension": ".py",
   "mimetype": "text/x-python",
   "name": "python",
   "nbconvert_exporter": "python",
   "pygments_lexer": "ipython3",
   "version": "3.8.5"
  }
 },
 "nbformat": 4,
 "nbformat_minor": 4
}
